{
 "cells": [
  {
   "cell_type": "code",
   "execution_count": 2,
   "metadata": {},
   "outputs": [],
   "source": [
    "from pathlib import Path\n",
    "import csv\n",
    "csvPath = Path('hw_02-Python_Instructions_PyBank_Resources_budget_data.csv')"
   ]
  },
  {
   "cell_type": "code",
   "execution_count": 46,
   "metadata": {},
   "outputs": [
    {
     "data": {
      "text/plain": [
       "['Date', 'Profit/Losses']"
      ]
     },
     "execution_count": 46,
     "metadata": {},
     "output_type": "execute_result"
    }
   ],
   "source": [
    "csvls=[]\n",
    "filelength = 0\n",
    "with open(csvPath, 'r') as csvfile:\n",
    "    csvread = csv.reader(csvfile)\n",
    "    for i in csvread:\n",
    "        csvls.append(i)\n",
    "        \n",
    "csvls.pop(0)"
   ]
  },
  {
   "cell_type": "code",
   "execution_count": 27,
   "metadata": {},
   "outputs": [],
   "source": [
    "# finding The total number of months included in the dataset.\n",
    "total_months = 0\n",
    "for i in csvls:\n",
    "    total_months= 1+total_months\n"
   ]
  },
  {
   "cell_type": "code",
   "execution_count": 24,
   "metadata": {},
   "outputs": [],
   "source": [
    "#The net total amount of Profit/Losses over the entire period.\n",
    "net_total = 0\n",
    "i = 0\n",
    "while i < len(csvls):\n",
    "    current_value= csvls[i][1]\n",
    "    net_total = net_total + int(current_value)\n",
    "    i+=1\n"
   ]
  },
  {
   "cell_type": "code",
   "execution_count": 25,
   "metadata": {},
   "outputs": [],
   "source": [
    "#The average of the changes in Profit/Losses over the entire period.\n",
    "profit_losses_change = []\n",
    "n = 0\n",
    "i = 1\n",
    "while i < len(csvls):\n",
    "    current_value= csvls[n][1]\n",
    "    next_value = csvls[i][1]\n",
    "    profit_losses_change.append(int(next_value) - int(current_value))\n",
    "    i+=1\n",
    "    n+=1\n",
    "average_changes = sum(profit_losses_change)/len(profit_losses_change)\n"
   ]
  },
  {
   "cell_type": "code",
   "execution_count": 40,
   "metadata": {},
   "outputs": [],
   "source": [
    "#The greatest increase in profits (date and amount) over the entire period.\n",
    "greatest_increase_profit = max(profit_losses_change)\n",
    "greatest_increase_date = csvls[profit_losses_change.index(max(profit_losses_change))+1]\n",
    "\n",
    "#The greatest decrease in losses (date and amount) over the entire period.\n",
    "greatest_decrease_profit = min(profit_losses_change)\n",
    "greatest_decrease_date = csvls[profit_losses_change.index(min(profit_losses_change))+1]"
   ]
  },
  {
   "cell_type": "code",
   "execution_count": 45,
   "metadata": {},
   "outputs": [
    {
     "name": "stdout",
     "output_type": "stream",
     "text": [
      "Financial Analysis\n",
      "-------------------\n",
      "Total Months: 86\n",
      "Average Change: $-2315.12\n",
      "Greatest Increase in Profits: Feb-2012 ($1926159)\n",
      "Greatest Decrease in Profits: Sep-2013 ($-2196167)\n"
     ]
    }
   ],
   "source": [
    "print(\"Financial Analysis\")\n",
    "print(\"-------------------\")\n",
    "print(f\"Total Months: {total_months}\")\n",
    "print(f\"Average Change: ${round(average_changes,2)}\")\n",
    "print(f\"Greatest Increase in Profits: {greatest_increase_date[0]} (${greatest_increase_profit})\")\n",
    "print(f\"Greatest Decrease in Profits: {greatest_decrease_date[0]} (${greatest_decrease_profit})\")"
   ]
  },
  {
   "cell_type": "code",
   "execution_count": null,
   "metadata": {},
   "outputs": [],
   "source": []
  }
 ],
 "metadata": {
  "kernelspec": {
   "display_name": "Python 3",
   "language": "python",
   "name": "python3"
  },
  "language_info": {
   "codemirror_mode": {
    "name": "ipython",
    "version": 3
   },
   "file_extension": ".py",
   "mimetype": "text/x-python",
   "name": "python",
   "nbconvert_exporter": "python",
   "pygments_lexer": "ipython3",
   "version": "3.7.4"
  }
 },
 "nbformat": 4,
 "nbformat_minor": 4
}
